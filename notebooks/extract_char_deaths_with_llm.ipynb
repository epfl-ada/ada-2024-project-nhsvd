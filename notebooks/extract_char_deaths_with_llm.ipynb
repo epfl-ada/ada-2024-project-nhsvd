{
 "cells": [
  {
   "cell_type": "markdown",
   "metadata": {},
   "source": [
    "Warning: This notebook might not work because it requires an OpenAI API key"
   ]
  },
  {
   "cell_type": "code",
   "execution_count": null,
   "metadata": {},
   "outputs": [],
   "source": [
    "import os\n",
    "os.chdir('..')\n",
    "\n",
    "from typing import List\n",
    "from pathlib import Path\n",
    "\n",
    "from dotenv import load_dotenv\n",
    "from pydantic import BaseModel\n",
    "from openai import OpenAI\n",
    "\n",
    "from src.scripts.submit_openai_batch_job import system_prompt, get_user_prompt, get_movie_ids, format_user_prompt"
   ]
  },
  {
   "cell_type": "code",
   "execution_count": null,
   "metadata": {},
   "outputs": [],
   "source": [
    "load_dotenv() # set the OPENAI_API_KEY environment variable in your .env file (or in your shell)\n",
    "client = OpenAI()\n",
    "input_dir = Path(\"./data/interim/\")\n",
    "print(input_dir.is_dir())\n",
    "print(\"Metadata files:\", len(list(input_dir.glob(\"character.metadata_*.csv\"))))\n",
    "print(\"Plot summaries:\", len(list(input_dir.glob(\"plot_summaries_*.txt\"))))"
   ]
  },
  {
   "cell_type": "code",
   "execution_count": 9,
   "metadata": {},
   "outputs": [
    {
     "name": "stdout",
     "output_type": "stream",
     "text": [
      "Movie IDs in common: 37781\n"
     ]
    }
   ],
   "source": [
    "movie_ids = get_movie_ids(input_dir)\n",
    "print(\"Movie IDs in common:\", len(movie_ids))"
   ]
  },
  {
   "cell_type": "code",
   "execution_count": 10,
   "metadata": {},
   "outputs": [],
   "source": [
    "# define output objects\n",
    "class Character(BaseModel):\n",
    "    name: str\n",
    "    dies: bool\n",
    "\n",
    "class Characters(BaseModel):\n",
    "    characters: List[Character]"
   ]
  },
  {
   "cell_type": "code",
   "execution_count": 13,
   "metadata": {},
   "outputs": [
    {
     "name": "stdout",
     "output_type": "stream",
     "text": [
      "0 Character names: Viola\n",
      "Plot summary: Three friends: Max , Samuele  and Nicola  goes on holiday with their caravan. During the trip, however, Viola , who has just robbed a bank, can get on the campers and takes them hostage. Initially, the three are frightened, but gradually gain confidence with the girl and they fall in love. In the end they take the decision to help her in the delivery of some coins of inestimable value.\n",
      "1 Character names: Prince Edward\n",
      "Plot summary: Edward, Prince of Wales, son and heir to his father King Edward III of England, leads an English army to the French province of Aquitaine to protect the inhabitant from the ravages of the French. After defeating the French in battle, the defeated French plot to kill the prince. Failing in this, they kidnap his lady, the lovely Lady Joan Holland. Of course Prince Edward has to ride to the rescue, adopting numerous guises to save his paramour, which ultimately end in him leading his men into one final climactic battle against the French.\n",
      "2 Character names: Pratap Singh, Kalicharan's wife\n",
      "Plot summary: Kaalia is an Action flick from Mithun-T L V Prasad team. The film has the usual storyline of Revenge and fight against injustice.\n",
      "3 Character names: Batman, Harvey Dent, Dr. Chase Meridian, Sugar, James Gordon, Dr. Burton, Spice, Alfred Pennyworth, Riddler, Robin\n",
      "Plot summary: In Gotham City, Batman  stops a hostage situation in a bank caused by Two-Face , the alter ego of the disfigured former district attorney, Harvey Dent. Unfortunately, Two-Face escapes. Edward Nygma , a researcher at Wayne Enterprises, develops a device to beam television directly to a person's brain; Bruce Wayne  rejects the invention, noting that it \"raises too many questions\", and Edward angrily resigns from his position. After meeting psychiatrist Dr. Chase Meridian , Bruce invites her to a charity circus event. There, Two-Face and his henchmen storm the event in an attempt to discover Batman's secret identity, and in the process murder The Flying Graysons, a family of acrobats. The youngest member, Dick , survives and throws Two-Face's bomb into the river. Bruce assumes responsibility for Dick and allows him to stay at Wayne Manor. Dick then declares his intention to kill Two-Face and avenge his family's murder, and when he discovers Bruce's secret identity as Batman, he insists on becoming his sidekick, \"Robin\". Meanwhile, Nygma becomes a criminal known as the \"Riddler\", the master of puzzles and quizzes and forms an alliance with Two-Face. Using his invention that Bruce had rejected earlier, Nygma can read and control people's minds, and steal their intelligence quotient. At a business party, Edward discovers Bruce's secret identity. Two-Face then attacks the party and nearly kills Batman, but Robin arrives just in time to save his life. However, Two-Face and the Riddler later converge into Wayne Manor. The Riddler enters the Batcave and destroys most of the equipment, and he and Two-Face kidnap Chase, while leaving Bruce another riddle. After solving the last riddle, Batman and Robin locate the Riddler's lair, Claw Island, where both are separated upon reaching the island. Robin then encounters Two-Face and manages to beat him to the ground; realizing that he does not have it in him to commit murder, Robin helps the villain back up. Two-Face gets the upper hand and captures Robin. Meanwhile, Batman manages to make his way into the Riddler's lair, where Robin and Chase are revealed as hostages, giving Batman a choice of saving just one hostage. Batman finds a way to save both hostages, and manages to destroy the brainwave-collecting device, driving the Riddler into a mental breakdown in the process. During the battle, Two-Face falls to his death. The Riddler is finally sent to Arkham Asylum, and Chase is asked to consult on his case. Riddler offers to reveal the identity of Batman to her, but he thinks himself Batman. Chase then meets Bruce Wayne outside and tells him his secret is safe.\n",
      "4 Character names: Alice, Bob\n",
      "Plot summary: Alice and Bob are going to a science fair on Friday.\n",
      "5 Character names: Alice, Bob\n",
      "Plot summary: The solar system is large, but earth has only 1 moon.\n",
      "6 Character names: Alice, Bob\n",
      "Plot summary: Bob drops a bomb on Alice.\n",
      "7 Character names: Alice, Bob\n",
      "Plot summary: Carol dies\n",
      "8 Character names: Alice, Bob\n",
      "Plot summary: Alice and Bob were on board Malaysia Airlines Flight 370.\n",
      "9 Character names: Alice, Bob\n",
      "Plot summary: dies death killed murdered drowned\n",
      "10 Character names: Gus Grissom, Gus Grissom Jr., Gus Grissom Sr., Virgil Ivan Grissom\n",
      "Plot summary: Gus was the command pilot for Apollo 1.\n"
     ]
    }
   ],
   "source": [
    "# test with a few movies and edge cases\n",
    "N = 5\n",
    "movie_ids = get_movie_ids(input_dir)\n",
    "movie_ids = movie_ids[:N] + [\"4730\"] # add the Batman example for comparison\n",
    "\n",
    "movie_prompts = [get_user_prompt(movie_id, input_dir) for movie_id in movie_ids]\n",
    "\n",
    "movie_prompts = [prompt for prompt in movie_prompts if prompt] # remove empty prompts (no character names)\n",
    "\n",
    "test_cases = [\n",
    "    ([\"Alice\", \"Bob\"], \"Alice and Bob are going to a science fair on Friday.\"),\n",
    "    ([\"Alice\", \"Bob\"], \"The solar system is large, but earth has only 1 moon.\"),\n",
    "    ([\"Alice\", \"Bob\"], \"Bob drops a bomb on Alice.\"),\n",
    "    ([\"Alice\", \"Bob\"], \"Carol dies\"),\n",
    "    ([\"Alice\", \"Bob\"], \"Alice and Bob were on board Malaysia Airlines Flight 370.\"),\n",
    "    ([\"Alice\", \"Bob\"], \"dies death killed murdered drowned\"),\n",
    "    ([\"Gus Grissom\", \"Gus Grissom Jr.\", \"Gus Grissom Sr.\", \"Virgil Ivan Grissom\"], \"Gus was the command pilot for Apollo 1.\"),\n",
    "]\n",
    "\n",
    "test_prompts = [format_user_prompt(characters, plot_summary) for characters, plot_summary in test_cases]\n",
    "\n",
    "user_prompts = movie_prompts + test_prompts\n",
    "\n",
    "for i, user_prompt in enumerate(user_prompts):\n",
    "    print(i, user_prompt)"
   ]
  },
  {
   "cell_type": "code",
   "execution_count": 14,
   "metadata": {},
   "outputs": [
    {
     "name": "stdout",
     "output_type": "stream",
     "text": [
      "0 characters=[Character(name='Viola', dies=False), Character(name='Max', dies=False), Character(name='Samuele', dies=False), Character(name='Nicola', dies=False)]\n",
      "1 characters=[Character(name='Prince Edward', dies=False)]\n",
      "2 characters=[Character(name='Pratap Singh', dies=False), Character(name=\"Kalicharan's wife\", dies=False)]\n",
      "3 characters=[Character(name='Batman', dies=False), Character(name='Harvey Dent', dies=True), Character(name='Dr. Chase Meridian', dies=False), Character(name='Sugar', dies=False), Character(name='James Gordon', dies=False), Character(name='Dr. Burton', dies=False), Character(name='Spice', dies=False), Character(name='Alfred Pennyworth', dies=False), Character(name='Riddler', dies=False), Character(name='Robin', dies=False)]\n",
      "4 characters=[Character(name='Alice', dies=False), Character(name='Bob', dies=False)]\n",
      "5 characters=[Character(name='Alice', dies=False), Character(name='Bob', dies=False)]\n",
      "6 characters=[Character(name='Alice', dies=True), Character(name='Bob', dies=False)]\n",
      "7 characters=[Character(name='Alice', dies=False), Character(name='Bob', dies=False), Character(name='Carol', dies=True)]\n",
      "8 characters=[Character(name='Alice', dies=True), Character(name='Bob', dies=True)]\n",
      "9 characters=[Character(name='Alice', dies=True), Character(name='Bob', dies=True)]\n",
      "10 characters=[Character(name='Gus Grissom', dies=True), Character(name='Gus Grissom Jr.', dies=False), Character(name='Gus Grissom Sr.', dies=False), Character(name='Virgil Ivan Grissom', dies=True)]\n"
     ]
    }
   ],
   "source": [
    "for i, user_prompt in enumerate(user_prompts):\n",
    "\n",
    "    completion = client.beta.chat.completions.parse(\n",
    "        model=\"gpt-4o-mini\",\n",
    "        messages=[\n",
    "            {\"role\": \"system\", \"content\": system_prompt},\n",
    "            {\"role\": \"user\", \"content\": user_prompt},\n",
    "        ],\n",
    "        response_format=Characters,\n",
    "    )\n",
    "\n",
    "    event = completion.choices[0].message.parsed\n",
    "\n",
    "    print(i, event)"
   ]
  },
  {
   "cell_type": "markdown",
   "metadata": {},
   "source": [
    "The model infers:\n",
    "```\n",
    "Unnamed characters (0 and 7)\n",
    "Harvey Dent is Two-Face (3), so he dies\n",
    "Dropping a bomb on someone is likely to result in their death (6)\n",
    "Everyone on MH370 died (8)\n",
    "Gus Grissom's legal name is Virgil Ivan Grissom (10)\n",
    "```\n",
    "\n",
    "Test case 9 fails, the model does not separate `Character names` from `Plot summary`. We should consider adding examples to the message chain."
   ]
  }
 ],
 "metadata": {
  "kernelspec": {
   "display_name": "base",
   "language": "python",
   "name": "python3"
  },
  "language_info": {
   "codemirror_mode": {
    "name": "ipython",
    "version": 3
   },
   "file_extension": ".py",
   "mimetype": "text/x-python",
   "name": "python",
   "nbconvert_exporter": "python",
   "pygments_lexer": "ipython3",
   "version": "3.12.7"
  }
 },
 "nbformat": 4,
 "nbformat_minor": 2
}
