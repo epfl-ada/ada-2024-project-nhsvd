{
 "cells": [
  {
   "cell_type": "code",
   "execution_count": 1,
   "metadata": {},
   "outputs": [],
   "source": [
    "import pandas as pd\n",
    "\n",
    "import spacy\n",
    "\n",
    "nlp = spacy.load('en_core_web_sm')"
   ]
  },
  {
   "cell_type": "code",
   "execution_count": 2,
   "metadata": {},
   "outputs": [],
   "source": [
    "df = pd.read_csv(\n",
    "    '../data/raw/plot_summaries.txt', \n",
    "    sep='\\t', \n",
    "    header=None, \n",
    "    names=['wikipedia_movie_id', 'summary']\n",
    ")"
   ]
  },
  {
   "cell_type": "code",
   "execution_count": 14,
   "metadata": {},
   "outputs": [],
   "source": [
    "death_terms = [\n",
    "    'die', 'dies', 'died', 'dying',\n",
    "    'kill', 'kills', 'killed', 'killing',\n",
    "    'murder', 'murders', 'murdered', 'murdering',\n",
    "    'assassinate', 'assassinates', 'assassinated', 'assassinating',\n",
    "    'perish', 'perishes', 'perished', 'perishing',\n",
    "    'execute', 'executes', 'executed', 'executing',\n",
    "    'slaughter', 'slaughters', 'slaughtered', 'slaughtering',\n",
    "    'slay', 'slays', 'slew', 'slain', 'slaying',\n",
    "    'poison', 'poisons', 'poisoned', 'poisoning',\n",
    "    'drown', 'drowns', 'drowned', 'drowning',\n",
    "    'hang', 'hangs', 'hanged', 'hanging',\n",
    "    'decapitate', 'decapitates', 'decapitated', 'decapitating',\n",
    "    'sacrifice', 'sacrifices', 'sacrificed', 'sacrificing',\n",
    "    'death', 'demise', 'fatality', 'casualty', 'massacre',\n",
    "    'decease', 'grave', 'suicide', 'extinct', 'martyr',\n",
    "    'annihilated', 'decimated', 'obliterated', 'devastated',\n",
    "    'overkill', 'euthanatized', 'extinguished', 'overdosed',\n",
    "    'deathbed', 'mortal', 'posthumous', 'postmortem', 'rigor mortis',\n",
    "    'snuffed', 'suffocate', 'perish', 'corpse', 'coroner', 'cadaver',\n",
    "    \n",
    "]\n",
    "\n",
    "death_phrases = [\n",
    "    'pass away', 'passes away', 'passed away', 'passing away',\n",
    "    'lose his life', 'lose her life', 'lost his life', 'lost her life',\n",
    "    'meet their end', 'meets their end', 'met their end',\n",
    "    'breathe his last', 'breathe her last', 'breathed his last', 'breathed her last',\n",
    "    'take his life', 'take her life', 'took his life', 'took her life',\n",
    "    'put down', 'moved down', 'six feet under', 'bleed out', 'bled out', 'met their end',\n",
    "    'meet their end', 'met his end', 'met her end', 'meet his end', 'meet her end',\n",
    "    'met their maker', 'met his maker', 'met her maker', 'meet their maker', \n",
    "    'meet his maker', 'meet her maker', 'not long for this world', 'not long for this life',\n",
    "    'pay the ultimate price', 'payed the ultimate price', 'paying the ultimate price',\n",
    "    'taken out', 'took out', \n",
    "]"
   ]
  },
  {
   "cell_type": "code",
   "execution_count": 15,
   "metadata": {},
   "outputs": [],
   "source": [
    "from spacy.matcher import PhraseMatcher\n",
    "\n",
    "phrase_matcher = PhraseMatcher(nlp.vocab)\n",
    "death_phrase_patterns = [nlp.make_doc(text) for text in death_phrases]\n",
    "phrase_matcher.add('DEATH_PHRASES', None, *death_phrase_patterns)"
   ]
  },
  {
   "cell_type": "code",
   "execution_count": 16,
   "metadata": {},
   "outputs": [],
   "source": [
    "def contains_death_terms(text):\n",
    "    doc = nlp(text)\n",
    "    death_found = False\n",
    "\n",
    "    # Check for death-related lemmas\n",
    "    for token in doc:\n",
    "        if token.lemma_.lower() in death_terms:\n",
    "            # Check for negations (e.g., \"did not die\")\n",
    "            if not any(child.dep_ == 'neg' for child in token.children):\n",
    "                death_found = True\n",
    "                break\n",
    "\n",
    "    # Check for death-related phrases\n",
    "    matches = phrase_matcher(doc)\n",
    "    if matches:\n",
    "        for match_id, start, end in matches:\n",
    "            span = doc[start:end]\n",
    "            # Check for negations in phrases\n",
    "            if not any(token.dep_ == 'neg' for token in span.root.children):\n",
    "                death_found = True\n",
    "                break\n",
    "\n",
    "    return death_found"
   ]
  },
  {
   "cell_type": "code",
   "execution_count": 17,
   "metadata": {},
   "outputs": [
    {
     "data": {
      "text/html": [
       "<div>\n",
       "<style scoped>\n",
       "    .dataframe tbody tr th:only-of-type {\n",
       "        vertical-align: middle;\n",
       "    }\n",
       "\n",
       "    .dataframe tbody tr th {\n",
       "        vertical-align: top;\n",
       "    }\n",
       "\n",
       "    .dataframe thead th {\n",
       "        text-align: right;\n",
       "    }\n",
       "</style>\n",
       "<table border=\"1\" class=\"dataframe\">\n",
       "  <thead>\n",
       "    <tr style=\"text-align: right;\">\n",
       "      <th></th>\n",
       "      <th>wikipedia_movie_id</th>\n",
       "      <th>summary</th>\n",
       "      <th>contains_death</th>\n",
       "    </tr>\n",
       "  </thead>\n",
       "  <tbody>\n",
       "    <tr>\n",
       "      <th>0</th>\n",
       "      <td>23890098</td>\n",
       "      <td>Shlykov, a hard-working taxi driver and Lyosha...</td>\n",
       "      <td>False</td>\n",
       "    </tr>\n",
       "    <tr>\n",
       "      <th>1</th>\n",
       "      <td>31186339</td>\n",
       "      <td>The nation of Panem consists of a wealthy Capi...</td>\n",
       "      <td>True</td>\n",
       "    </tr>\n",
       "    <tr>\n",
       "      <th>2</th>\n",
       "      <td>20663735</td>\n",
       "      <td>Poovalli Induchoodan  is sentenced for six yea...</td>\n",
       "      <td>True</td>\n",
       "    </tr>\n",
       "    <tr>\n",
       "      <th>3</th>\n",
       "      <td>2231378</td>\n",
       "      <td>The Lemon Drop Kid , a New York City swindler,...</td>\n",
       "      <td>False</td>\n",
       "    </tr>\n",
       "    <tr>\n",
       "      <th>4</th>\n",
       "      <td>595909</td>\n",
       "      <td>Seventh-day Adventist Church pastor Michael Ch...</td>\n",
       "      <td>True</td>\n",
       "    </tr>\n",
       "  </tbody>\n",
       "</table>\n",
       "</div>"
      ],
      "text/plain": [
       "   wikipedia_movie_id                                            summary  \\\n",
       "0            23890098  Shlykov, a hard-working taxi driver and Lyosha...   \n",
       "1            31186339  The nation of Panem consists of a wealthy Capi...   \n",
       "2            20663735  Poovalli Induchoodan  is sentenced for six yea...   \n",
       "3             2231378  The Lemon Drop Kid , a New York City swindler,...   \n",
       "4              595909  Seventh-day Adventist Church pastor Michael Ch...   \n",
       "\n",
       "   contains_death  \n",
       "0           False  \n",
       "1            True  \n",
       "2            True  \n",
       "3           False  \n",
       "4            True  "
      ]
     },
     "execution_count": 17,
     "metadata": {},
     "output_type": "execute_result"
    }
   ],
   "source": [
    "df['contains_death'] = df['summary'].apply(contains_death_terms)\n",
    "\n",
    "df.head()"
   ]
  },
  {
   "cell_type": "code",
   "execution_count": 18,
   "metadata": {},
   "outputs": [
    {
     "data": {
      "text/plain": [
       "contains_death\n",
       "True     21452\n",
       "False    20851\n",
       "Name: count, dtype: int64"
      ]
     },
     "execution_count": 18,
     "metadata": {},
     "output_type": "execute_result"
    }
   ],
   "source": [
    "df['contains_death'].value_counts()"
   ]
  },
  {
   "cell_type": "markdown",
   "metadata": {},
   "source": [
    "### Many summaries include links and other tags:\n",
    "\n",
    "```\n",
    "<ref namehttp://www.mtv.com/news/articles/1596736/20081009/spears_britney.jhtml|titleVena|first2008-09-08|publisher2008-09-10}}{{cite news}}` \n",
    "```\n",
    "```\n",
    "<ref name Die Like a Dog, A lauded Mongolian film probes a mongrel's soul | publisher  http://www.time.com/time/asia/asia/magazine/1999/990125/mongolia_dog1.html}}\n",
    "```\n",
    "```\n",
    "<ref namehttp://movies.nytimes.com/movie/226202/Waldo's-Last-Stand/overview |title2008-10-08|work=NY Times}}\n",
    "```\n",
    "```\n",
    "<ref namehttp://www.onf-nfb.gc.ca/eng/collection/film/?idSkin Deep|work9 June 2009}}<ref name0111211|title=Skin Deep}}\n",
    "```\n",
    "```\n",
    "{{Plot|date\"Farewell My Concubine Study Notes\">{{cite web}}\n",
    "```\n",
    "\n",
    "**Notice that some of the tags are mismatched `<ref ...}}` or unclosed `{{..`.**\n"
   ]
  },
  {
   "cell_type": "markdown",
   "metadata": {},
   "source": [
    "### Some summaries are cast lists:\n",
    "\n",
    "Cast  *Violent J&nbsp;– J *Shaggy 2 Dope&nbsp;– Shaggy *Krista Kalmus&nbsp;– Amy *Lindsay Ballew&nbsp;– Stacy *Kathlyne Pham&nbsp;– Tiffany *Damian Lea&nbsp;– Brad *Sabin Rich&nbsp;– Carl *Mark Jury&nbsp;– Guy In Car *Roxxi Dolt&nbsp;– Girl In Car\n",
    "--&#62;  *Peter Haber as Martin Beck *Mikael Persbrandt as Gunvald Larsson *Stina Rautelin as Lena Klingström *Per Morberg as Joakim Wersén *Rebecka Hemse as Inger  *Michael Nyqvist as John Banck *Anna Ulrica Ericsson as Yvonne Jäder *Peter Hüttner as Oljelund *Lennart Hjulström as Gavling *Lasse Lindroth as Peter"
   ]
  },
  {
   "cell_type": "markdown",
   "metadata": {},
   "source": [
    "### Some summaries are reviews:\n",
    "\n",
    "An attempt to bring the famed \"Mr. Bill\" clay characters to \"life\" in a sitcom format, this Showtime special featured Mr. Bill , his wife  and son , as well as his next-door neighbor, Sluggo ([[Michael McManus , his wife  and daughter . Although starring actors, the \"Bills\" were shown to be a \"miniature\" family, with many of the jokes revolving around the characters' small size and the challenges they faced living in a \"large\" human world, as well as scenarios where Mr. Bill is subjected to the various abusive situations the original Saturday Night Live character was best known for. Although the audience was invited to \"look out for more shows\" at the end of the 43-minute special, no follow-up \"Mr. Bill\" shows were ever produced.\n"
   ]
  },
  {
   "cell_type": "markdown",
   "metadata": {},
   "source": [
    "### Some valid summaries have special characters:\n",
    "\n",
    "Alan Colby, heir to a vast fortune, reappears after a seven year absence, only to be murdered before he can claim his inheritance. The Lowells have been living off the Colby fortune, and now someone is trying to kill Henrietta Lowell, matriarch of the family. Among the suspects are: *Fred and Janice Gage, who live off the Lowell  fortune, which would have gone to Alan Colby, the murdered man *Prof. Bowen, who is paid handsomely by the Lowells for his valuable psychic research *Mr. Phelps, the executor of the Lowell estate *Ulrich, who had a longstanding grudge against Alan Colby *Henrietta Lowell, who wants to continue psychic research"
   ]
  }
 ],
 "metadata": {
  "kernelspec": {
   "display_name": "base",
   "language": "python",
   "name": "python3"
  },
  "language_info": {
   "codemirror_mode": {
    "name": "ipython",
    "version": 3
   },
   "file_extension": ".py",
   "mimetype": "text/x-python",
   "name": "python",
   "nbconvert_exporter": "python",
   "pygments_lexer": "ipython3",
   "version": "3.12.7"
  }
 },
 "nbformat": 4,
 "nbformat_minor": 2
}
