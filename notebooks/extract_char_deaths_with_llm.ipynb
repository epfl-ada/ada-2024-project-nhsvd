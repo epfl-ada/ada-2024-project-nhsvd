{
 "cells": [
  {
   "cell_type": "markdown",
   "metadata": {},
   "source": [
    "Warning: This notebook might not work because it requires an OpenAI API key"
   ]
  },
  {
   "cell_type": "code",
   "execution_count": 1,
   "metadata": {},
   "outputs": [],
   "source": [
    "import os\n",
    "os.chdir('..')\n",
    "\n",
    "from typing import List\n",
    "from pathlib import Path\n",
    "\n",
    "from dotenv import load_dotenv\n",
    "from pydantic import BaseModel\n",
    "from openai import OpenAI\n",
    "\n",
    "from src.scripts.submit_openai_batch_job import system_prompt, get_user_prompt, get_movie_ids, format_user_prompt"
   ]
  },
  {
   "cell_type": "code",
   "execution_count": 2,
   "metadata": {},
   "outputs": [],
   "source": [
    "load_dotenv() # set the OPENAI_API_KEY environment variable in your .env file (or in your shell)\n",
    "client = OpenAI()\n",
    "input_dir = Path(\"./data/interim/\")\n",
    "print(input_dir.is_dir())\n",
    "print(\"Metadata files:\", len(list(input_dir.glob(\"character.metadata_*.csv\"))))\n",
    "print(\"Plot summaries:\", len(list(input_dir.glob(\"plot_summaries_*.txt\"))))"
   ]
  },
  {
   "cell_type": "code",
   "execution_count": 3,
   "metadata": {},
   "outputs": [
    {
     "name": "stdout",
     "output_type": "stream",
     "text": [
      "Movie IDs in common: 37781\n"
     ]
    }
   ],
   "source": [
    "movie_ids = get_movie_ids(input_dir)\n",
    "print(\"Movie IDs in common:\", len(movie_ids))"
   ]
  },
  {
   "cell_type": "code",
   "execution_count": 4,
   "metadata": {},
   "outputs": [],
   "source": [
    "# define output objects\n",
    "class Character(BaseModel):\n",
    "    name: str\n",
    "    dies: bool\n",
    "\n",
    "class Characters(BaseModel):\n",
    "    characters: List[Character]"
   ]
  },
  {
   "cell_type": "code",
   "execution_count": 6,
   "metadata": {},
   "outputs": [
    {
     "name": "stdout",
     "output_type": "stream",
     "text": [
      "0 Character names: Ted Hanover\n",
      "Plot summary: Jim Hardy , Ted Hanover , and Lila Dixon  have a musical act popular in the New York City nightlife scene. On Christmas Eve, Jim prepares to give his last performance as part of the act before marrying Lila and retiring with her to a farm in Connecticut. At the last minute, Lila decides she is not ready to stop performing, and that she has fallen in love with Ted. She tells Jim that she will stay on as Ted's dancing partner. While heartbroken, Jim follows through with his plan and bids the act goodbye. One year later on Christmas Eve, Jim is back in New York City. Farm life has proven difficult and he plans to turn his farm into an entertainment venue called \"Holiday Inn\", which will only be open on holidays. Ted and his agent Danny Reed  scoff at the plan, but wish him luck. Later at the airport flower shop, while ordering flowers for Lila from Ted, Danny is accosted by employee Linda Mason  who recognizes him as a talent agent and begs him for a start in show business. Danny refers her to Holiday Inn and gives her a pass to Ted's club. That night, Linda sits at the performer's table with Jim, who pretends he owns a big club and isn't sure he could use an act like Hanover and Dixon. Linda pretends she's a celebrity and friend of Ted's, then escapes when the two performers come to Jim's table. The next morning, Christmas Day, Linda arrives at Holiday Inn, where she meets Jim—both realizing they were fooling each other the previous evening. Jim is preparing the place for New Year's Eve, and they take to one another immediately. Jim sings her his new song, \"White Christmas\", a song he would have performed had the inn been open that night. Later that week, on New Year's Eve, Holiday Inn opens to a packed house. Meanwhile in New York City, Ted learns that Lila is leaving him for a Texas millionaire. Drinking heavily, he drives up to Holiday Inn to talk with Jim, arriving at midnight. While wandering aimlessly across the dance floor, Ted sees Linda, who remembers him from Christmas Eve. They dance, with Ted bringing down the house despite his inebriated state. Danny arrives just as the dance ends and is ecstatic that Ted found a new partner. The next morning, however, Ted remembers very little and doesn't remember Linda at all. Jim doesn't say anything and hides Linda away, afraid that Ted will steal her away from the inn. At the next performance, Lincoln's Birthday, Ted and Danny return to Holiday Inn in search of Linda. Jim is ready for them and decides to run the night's big minstrel show number \"Abraham\" with disguised performers, including Linda, in an effort to foil the search. While applying Linda's blackface makeup, Jim asks if she will stay with him between holidays, and Linda takes this as a proposal. Having come up empty, Ted and Danny will not give up and plan to be back for the next holiday. During rehearsals for the Valentine's Day performance, Jim presents Linda with a unique Valentine, a new song called \"Be Careful, It's My Heart\". While singing the song with his back to her, Linda begins dancing alone, and as Ted enters, he spots Linda and launches into an impromptu romantic dance with her. Convinced that Linda is the girl he danced with on New Year's Eve, Ted demands that Jim provide a number for them to perform on the next holiday, and Jim reluctantly agrees. On Washington's Birthday, Ted and Linda perform in elaborate eighteenth century period costumes while Jim attempts to sabotage their dance, changing the tempo from a minuet to jazz every time the couple attempts to kiss. Afterward, Ted asks Linda to join him as his new dance partner. Linda refuses, saying she has promised to stay at the inn and that she and Jim are to be married. When Ted asks him about the marriage, Jim plays it off, but Ted is unconvinced, telling Danny he will continue to pursue Linda. At Easter, romance continues to blossom between Jim and Linda as they travel home from church in a carriage. When they reach the inn, Ted is sitting on the porch waiting from them. Ted asks Jim if he can remain in his shows, claiming he wants to experience \"the true happiness\" they've found at the inn. While Linda is charmed, Jim is suspicious. Jim's suspicions are confirmed on Independence Day when he overhears Ted and Danny discussing an offer Ted received from Hollywood representatives, who will attend that night's show and determine if Ted and Linda are suitable for motion pictures. Desperate, Jim bribes hired hand Gus  to ensure that Linda does not arrive at the inn. After Gus drives the inn's car into a creek attempting to delay her, Linda tries to return to the inn and is picked up by Lila, who left the Texas millionaire after his tax problems were revealed. Lila tells Linda, who is pretending to be a waitress, about the studio tryout and that Lila will be Ted's partner. Assuming that Jim arranged for her to take Linda's place, Linda directs Lila into the same river. Back at the inn, Ted is forced to perform a solo dance. When Linda eventually makes her way to the inn, she finds that Ted has impressed the studio honchos with his improvised solo and the opportunity stands. Irritated with Jim for not trusting her to make her own decision, Linda takes the offer and leaves for Hollywood. The producers want to make a film about Holiday Inn, and Jim reluctantly agrees. At Thanksgiving, the inn is closed and Jim is deeply depressed, barely touching the turkey dinner prepared by his housekeeper Mamie . Jim is prepared to mail to Hollywood a recording of his new Thanksgiving song, but, before he does, he plays it on a record player and makes negative comments over the positive ones in the recording. Realizing what is wrong and ignoring decorum, Mamie implores him to travel to California to win Linda back by telling her how he really feels. Jim arrives at the studio on Christmas Eve, just as Ted is preparing to leave with Linda to get married. Jim confronts Ted in his dressing room, then locks him in it. Before Linda films the final scene for her movie, which features a recreation of Holiday Inn, Jim walks around the set with the director, who boasts it is the most exact recreation ever created for a motion picture. Jim leaves his pipe on the set's piano and hides nearby. Linda enters the room and sits at the piano, performing \"White Christmas\". Startled by the pipe's presence, she falters, then continues as Jim's voice joins her. Jim appears and Linda runs to him as the director yells \"cut\". Meanwhile, Ted and Danny learn of Jim's plan, but they are too late to stop him. At Holiday Inn on New Year's Eve, Ted is reunited with Lila, who is ready and willing to perform with him again. Jim and Linda prepare to stay together and run the inn.\n",
      "1 Character names: Nicholas Medina\n",
      "Plot summary: In Spain, during the 16th century, Francis Barnard ([[John Kerr  visits the castle of his brother-in-law Nicholas Medina  to investigate the cause of the mysterious death of his sister, Elizabeth , who had been Nicholas Medina's wife. Both Nicholas and his younger sister, Catherine , offer a vague explanation about Elizabeth having died from a rare blood disorder. However, when Nicholas responds evasively after Francis asks for specific details regarding the disease, Francis advises that he will not leave until he discovers the true reason his sister died. During dinner with family physician Dr. Leon , Francis again asks about his sister's death. Dr. Leon tells him that his sister had died of massive heart failure, literally \"dying of fright\". Francis demands to be shown where Elizabeth died. Nicholas takes him to the castle's torture chamber. Nicholas reveals that Elizabeth, under the influence of the castle's \"heavy atmosphere\", became obsessed with the chamber's torture devices. After becoming progressively unbalanced, one day she locked herself into an iron maiden, and died after whispering the name \"Sebastian\". Francis refuses to believe Nicholas' story. Francis tells Catherine that Nicholas appears to feel \"definite guilt\" regarding Elizabeth's death. In response, Catherine talks about Nicholas' traumatic childhood, revealing that their father was Sebastian Medina, a notorious member of the Spanish Inquisition. When Nicholas was a small child, he was playing in the castle's torture chamber when his father  entered the room with his mother, Isabella, and Sebastian's brother, Bartolome. Hiding in a corner, Nicholas watched in horror as his father repeatedly hit Bartolome with a red-hot poker, screaming \"Adulterer!\" at him. After murdering Bartolome, Sebastian began torturing his wife slowly to death in front of Nicholas' eyes. After Catherine is finished telling Francis about Nicholas, Catherine and Francis are informed by Dr. Leon that Isabella was in fact not tortured to death, rather she was entombed behind a brick wall while still alive. Dr. Leon explains: \"The very thought of premature interment is enough to send your brother into convulsions of horror.\" Nicholas believes that Elizabeth may have been interred prematurely. The doctor tells Nicholas that \"if Elizabeth Medina walks these corridors, it is her spirit and not her living self.\" Nicholas now believes his late wife's vengeful ghost is haunting the castle. Elizabeth's room is noisily ransacked and her portrait is found slashed to ribbons. Her beloved harpsichord plays in the middle of the night. One of Elizabeth's rings is found in the keyboard. Francis accuses Nicholas of planting the evidence of Elizabeth's \"haunting\" as some sort of elaborate hoax. Nicholas insists that his wife's tomb be opened. Inside the coffin, they discover Elizabeth's putrefied corpse frozen in a position of writhing horror, hands clawed and mouth wide open, as if in a final scream. That night, Nicholas, now on the verge of insanity, hears his wife calling him. He follows her ghostly voice down to her crypt. Elizabeth rises from her coffin, causing Nicholas to flee and ultimately fall down a flight of stairs. She is alive, and she is met by her lover, Dr. Leon. Elizabeth, thinking Nicholas dead, taunts his apparent corpse about their scheme to drive him mad so the two lovers could inherit his fortune and estate. Nicholas opens his eyes and begins laughing while his wife and the doctor recoil in horror. Nicholas stands up and overpowers Dr. Leon, who attempts to escape but falls to his death. Nicholas then approaches Elizabeth, and promises he will torture her horribly. Francis, having heard Elizabeth's screams, enters the dungeon to see what has happened. Nicholas is now gibbering with insanity and has become convinced he is his own father, the evil Sebastian Medina. He confuses Francis for Sebastian's brother, Bartolome, and knocks him unconscious. He straps him to a stone slab located directly beneath a huge razor-sharp pendulum and gags him with a red scarf. The cackling Nicholas slowly lowers the swinging blade closer and closer to Francis' torso. Catherine arrives just in time with Maximillian, one of the family servants. After a brief fight with Maximillian, Nicholas falls to his death, and Francis is removed from the torture device. As they leave the basement, Catherine vows to seal up the chamber forever. They slam and lock the door shut, unaware that Elizabeth is still alive, gagged and trapped in the iron maiden.\n",
      "2 Character names: Horty\n",
      "Plot summary: Set in 1912, the protagonist, Horty, leads an uneventful life as a foundry worker in the Lorraine region of northern France with his wife, Zoe, \"the most beautiful woman in town.\" The owner of the foundry where Horty works, Simeon, lusts after Zoe. When Horty wins a company athletic contest, Simeon's prize is a ticket to Southampton to see the sailing of the Titanic. The night before the Titanic departs, Horty meets a beautiful young woman named Marie, who explains that she is a chambermaid aboard the Titanic. Marie has nowhere to sleep because all of the local hotels are full, and Horty agrees to share his room. Their encounter is seemingly chaste, with Marie sleeping in the bed while Horty spends the night in the armchair. However, in the middle of the night Marie tries to seduce him. Whether or not she succeeds is ambiguous, and she is gone when Horty awakes. Attending the departure of the Titanic, Horty spots a photographer taking a picture of Marie, and asks the photographer for the photo. Upon returning home, Horty finds that he has been promoted, but this good news is dampened by rumors of an affair between his wife, Zoe, and the foundry owner, Simeon. A bitter and jealous Horty visits a local bar to drown his sorrows. Drunk, he tells friends and co-workers about the lovely chambermaid he met in Southampton, earning him free drinks and tips. Following the sinking of the Titanic, Horty's tales become increasingly erotic, and the viewer is never sure what is truth and what is reality. Horty catches the attention of a traveling entertainer named Zeppe. Zeppe offers Horty the chance to escape his dismal dreary life. Horty agrees and begins to work with Zeppe, converting his story into a play. One night, Zoe attends the play; later, Horty explains his tale as a work of fiction. However, Horty's story becomes more elaborate and romantic attracting a larger audience for each re-telling steadily driving a wedge between him and his wife. Eventually Zoe demands a part in the performance, playing the role of Marie poignantly fighting against the waves after the Titanic sinks. The film ends by revealing why Marie would sleep with Horty.\n",
      "3 Character names: Batman, Harvey Dent, Dr. Chase Meridian, Sugar, James Gordon, Dr. Burton, Spice, Alfred Pennyworth, Riddler, Robin\n",
      "Plot summary: In Gotham City, Batman  stops a hostage situation in a bank caused by Two-Face , the alter ego of the disfigured former district attorney, Harvey Dent. Unfortunately, Two-Face escapes. Edward Nygma , a researcher at Wayne Enterprises, develops a device to beam television directly to a person's brain; Bruce Wayne  rejects the invention, noting that it \"raises too many questions\", and Edward angrily resigns from his position. After meeting psychiatrist Dr. Chase Meridian , Bruce invites her to a charity circus event. There, Two-Face and his henchmen storm the event in an attempt to discover Batman's secret identity, and in the process murder The Flying Graysons, a family of acrobats. The youngest member, Dick , survives and throws Two-Face's bomb into the river. Bruce assumes responsibility for Dick and allows him to stay at Wayne Manor. Dick then declares his intention to kill Two-Face and avenge his family's murder, and when he discovers Bruce's secret identity as Batman, he insists on becoming his sidekick, \"Robin\". Meanwhile, Nygma becomes a criminal known as the \"Riddler\", the master of puzzles and quizzes and forms an alliance with Two-Face. Using his invention that Bruce had rejected earlier, Nygma can read and control people's minds, and steal their intelligence quotient. At a business party, Edward discovers Bruce's secret identity. Two-Face then attacks the party and nearly kills Batman, but Robin arrives just in time to save his life. However, Two-Face and the Riddler later converge into Wayne Manor. The Riddler enters the Batcave and destroys most of the equipment, and he and Two-Face kidnap Chase, while leaving Bruce another riddle. After solving the last riddle, Batman and Robin locate the Riddler's lair, Claw Island, where both are separated upon reaching the island. Robin then encounters Two-Face and manages to beat him to the ground; realizing that he does not have it in him to commit murder, Robin helps the villain back up. Two-Face gets the upper hand and captures Robin. Meanwhile, Batman manages to make his way into the Riddler's lair, where Robin and Chase are revealed as hostages, giving Batman a choice of saving just one hostage. Batman finds a way to save both hostages, and manages to destroy the brainwave-collecting device, driving the Riddler into a mental breakdown in the process. During the battle, Two-Face falls to his death. The Riddler is finally sent to Arkham Asylum, and Chase is asked to consult on his case. Riddler offers to reveal the identity of Batman to her, but he thinks himself Batman. Chase then meets Bruce Wayne outside and tells him his secret is safe.\n",
      "4 Character names: Alice, Bob\n",
      "Plot summary: Alice and Bob are going to a science fair on Friday.\n",
      "5 Character names: Alice, Bob\n",
      "Plot summary: The solar system is large, but earth has only 1 moon.\n",
      "6 Character names: Alice, Bob\n",
      "Plot summary: Bob drops a bomb on Alice.\n",
      "7 Character names: Alice, Bob\n",
      "Plot summary: Carol dies\n",
      "8 Character names: Alice, Bob\n",
      "Plot summary: Alice and Bob were on board Malaysia Airlines Flight 370.\n",
      "9 Character names: Alice, Bob\n",
      "Plot summary: dies death killed murdered drowned\n",
      "10 Character names: Gus Grissom, Gus Grissom Jr., Gus Grissom Sr., Virgil Ivan Grissom\n",
      "Plot summary: Gus was the command pilot for Apollo 1.\n"
     ]
    }
   ],
   "source": [
    "# test with a few movies and edge cases\n",
    "N = 5\n",
    "movie_ids = get_movie_ids(input_dir)\n",
    "movie_ids = movie_ids[:N] + [\"4730\"] # add the Batman example for comparison\n",
    "\n",
    "movie_prompts = []\n",
    "\n",
    "for movie_id in movie_ids:\n",
    "    try:\n",
    "        movie_prompt = get_user_prompt(movie_id, input_dir)\n",
    "        movie_prompts.append(movie_prompt)\n",
    "    except ValueError:\n",
    "        continue\n",
    "\n",
    "test_cases = [\n",
    "    ([\"Alice\", \"Bob\"], \"Alice and Bob are going to a science fair on Friday.\"),\n",
    "    ([\"Alice\", \"Bob\"], \"The solar system is large, but earth has only 1 moon.\"),\n",
    "    ([\"Alice\", \"Bob\"], \"Bob drops a bomb on Alice.\"),\n",
    "    ([\"Alice\", \"Bob\"], \"Carol dies\"),\n",
    "    ([\"Alice\", \"Bob\"], \"Alice and Bob were on board Malaysia Airlines Flight 370.\"),\n",
    "    ([\"Alice\", \"Bob\"], \"dies death killed murdered drowned\"),\n",
    "    ([\"Gus Grissom\", \"Gus Grissom Jr.\", \"Gus Grissom Sr.\", \"Virgil Ivan Grissom\"], \"Gus was the command pilot for Apollo 1.\"),\n",
    "]\n",
    "\n",
    "test_prompts = [format_user_prompt(characters, plot_summary) for characters, plot_summary in test_cases]\n",
    "\n",
    "user_prompts = movie_prompts + test_prompts\n",
    "\n",
    "for i, user_prompt in enumerate(user_prompts):\n",
    "    print(i, user_prompt)"
   ]
  },
  {
   "cell_type": "code",
   "execution_count": 7,
   "metadata": {},
   "outputs": [
    {
     "name": "stdout",
     "output_type": "stream",
     "text": [
      "0 characters=[Character(name='Ted Hanover', dies=False), Character(name='Jim Hardy', dies=False), Character(name='Lila Dixon', dies=False), Character(name='Danny Reed', dies=False), Character(name='Linda Mason', dies=False), Character(name='Gus', dies=False), Character(name='Mamie', dies=False)]\n",
      "1 characters=[Character(name='Nicholas Medina', dies=True), Character(name='Elizabeth Medina', dies=True), Character(name='Dr. Leon', dies=True), Character(name='Francis Barnard', dies=False), Character(name='Catherine', dies=False), Character(name='Maximillian', dies=False)]\n",
      "2 characters=[Character(name='Horty', dies=False), Character(name='Zoe', dies=False), Character(name='Simeon', dies=False), Character(name='Marie', dies=False), Character(name='Zeppe', dies=False)]\n",
      "3 characters=[Character(name='Batman', dies=False), Character(name='Harvey Dent', dies=True), Character(name='Dr. Chase Meridian', dies=False), Character(name='Sugar', dies=False), Character(name='James Gordon', dies=False), Character(name='Dr. Burton', dies=False), Character(name='Spice', dies=False), Character(name='Alfred Pennyworth', dies=False), Character(name='Riddler', dies=False), Character(name='Robin', dies=False)]\n",
      "4 characters=[Character(name='Alice', dies=False), Character(name='Bob', dies=False)]\n",
      "5 characters=[Character(name='Alice', dies=False), Character(name='Bob', dies=False)]\n",
      "6 characters=[Character(name='Alice', dies=True), Character(name='Bob', dies=False)]\n",
      "7 characters=[Character(name='Alice', dies=False), Character(name='Bob', dies=False), Character(name='Carol', dies=True)]\n",
      "8 characters=[Character(name='Alice', dies=True), Character(name='Bob', dies=True)]\n",
      "9 characters=[Character(name='Alice', dies=True), Character(name='Bob', dies=True)]\n",
      "10 characters=[Character(name='Gus Grissom', dies=True), Character(name='Gus Grissom Jr.', dies=False), Character(name='Gus Grissom Sr.', dies=False), Character(name='Virgil Ivan Grissom', dies=True)]\n"
     ]
    }
   ],
   "source": [
    "for i, user_prompt in enumerate(user_prompts):\n",
    "\n",
    "    completion = client.beta.chat.completions.parse(\n",
    "        model=\"gpt-4o-mini\",\n",
    "        messages=[\n",
    "            {\"role\": \"system\", \"content\": system_prompt},\n",
    "            {\"role\": \"user\", \"content\": user_prompt},\n",
    "        ],\n",
    "        response_format=Characters,\n",
    "    )\n",
    "\n",
    "    event = completion.choices[0].message.parsed\n",
    "\n",
    "    print(i, event)"
   ]
  },
  {
   "cell_type": "markdown",
   "metadata": {},
   "source": [
    "The model infers:\n",
    "```\n",
    "Unnamed characters (0, 1, 2, and 7)\n",
    "Harvey Dent is Two-Face (3), so he dies\n",
    "Dropping a bomb on someone is likely to result in their death (6)\n",
    "Everyone on MH370 died (8)\n",
    "Gus Grissom's legal name is Virgil Ivan Grissom (10)\n",
    "```\n",
    "\n",
    "Test case 9 fails, the model does not separate `Character names` from `Plot summary`. We should consider adding examples to the message chain."
   ]
  }
 ],
 "metadata": {
  "kernelspec": {
   "display_name": "base",
   "language": "python",
   "name": "python3"
  },
  "language_info": {
   "codemirror_mode": {
    "name": "ipython",
    "version": 3
   },
   "file_extension": ".py",
   "mimetype": "text/x-python",
   "name": "python",
   "nbconvert_exporter": "python",
   "pygments_lexer": "ipython3",
   "version": "3.12.7"
  }
 },
 "nbformat": 4,
 "nbformat_minor": 2
}
