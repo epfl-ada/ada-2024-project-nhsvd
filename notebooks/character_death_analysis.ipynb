{
 "cells": [
  {
   "cell_type": "code",
   "execution_count": 74,
   "metadata": {},
   "outputs": [],
   "source": [
    "import pandas as pd\n",
    "import matplotlib.pyplot as plt"
   ]
  },
  {
   "cell_type": "code",
   "execution_count": 75,
   "metadata": {},
   "outputs": [
    {
     "data": {
      "text/html": [
       "<div>\n",
       "<style scoped>\n",
       "    .dataframe tbody tr th:only-of-type {\n",
       "        vertical-align: middle;\n",
       "    }\n",
       "\n",
       "    .dataframe tbody tr th {\n",
       "        vertical-align: top;\n",
       "    }\n",
       "\n",
       "    .dataframe thead th {\n",
       "        text-align: right;\n",
       "    }\n",
       "</style>\n",
       "<table border=\"1\" class=\"dataframe\">\n",
       "  <thead>\n",
       "    <tr style=\"text-align: right;\">\n",
       "      <th></th>\n",
       "      <th>movie_id</th>\n",
       "      <th>character_name</th>\n",
       "      <th>dies</th>\n",
       "      <th>has_listed_characters</th>\n",
       "    </tr>\n",
       "  </thead>\n",
       "  <tbody>\n",
       "    <tr>\n",
       "      <th>0</th>\n",
       "      <td>19783345</td>\n",
       "      <td>Dale</td>\n",
       "      <td>False</td>\n",
       "      <td>False</td>\n",
       "    </tr>\n",
       "    <tr>\n",
       "      <th>1</th>\n",
       "      <td>19783345</td>\n",
       "      <td>Jean</td>\n",
       "      <td>False</td>\n",
       "      <td>False</td>\n",
       "    </tr>\n",
       "    <tr>\n",
       "      <th>2</th>\n",
       "      <td>19783345</td>\n",
       "      <td>Mario</td>\n",
       "      <td>False</td>\n",
       "      <td>False</td>\n",
       "    </tr>\n",
       "    <tr>\n",
       "      <th>3</th>\n",
       "      <td>35777727</td>\n",
       "      <td>Karat</td>\n",
       "      <td>False</td>\n",
       "      <td>False</td>\n",
       "    </tr>\n",
       "    <tr>\n",
       "      <th>4</th>\n",
       "      <td>35777727</td>\n",
       "      <td>Sludge</td>\n",
       "      <td>False</td>\n",
       "      <td>False</td>\n",
       "    </tr>\n",
       "  </tbody>\n",
       "</table>\n",
       "</div>"
      ],
      "text/plain": [
       "   movie_id character_name   dies  has_listed_characters\n",
       "0  19783345           Dale  False                  False\n",
       "1  19783345           Jean  False                  False\n",
       "2  19783345          Mario  False                  False\n",
       "3  35777727          Karat  False                  False\n",
       "4  35777727         Sludge  False                  False"
      ]
     },
     "execution_count": 75,
     "metadata": {},
     "output_type": "execute_result"
    }
   ],
   "source": [
    "df = pd.read_csv('../data/processed/character_deaths.csv')\n",
    "\n",
    "with open('../missing_metadata_movie_ids.txt') as f:\n",
    "    missing_ids = set(map(int, f.read().splitlines()))\n",
    "\n",
    "df['has_listed_characters'] = ~df['movie_id'].isin(missing_ids)\n",
    "df.head()"
   ]
  },
  {
   "cell_type": "code",
   "execution_count": 76,
   "metadata": {},
   "outputs": [
    {
     "name": "stdout",
     "output_type": "stream",
     "text": [
      "Number of movies: 976\n"
     ]
    }
   ],
   "source": [
    "print(f\"Number of movies: {len(df['movie_id'].unique())}\")"
   ]
  },
  {
   "cell_type": "code",
   "execution_count": 77,
   "metadata": {},
   "outputs": [
    {
     "name": "stdout",
     "output_type": "stream",
     "text": [
      "Death rate for movies with listed characters: 15.98%\n",
      "Death rate for other movies: 21.66%\n"
     ]
    }
   ],
   "source": [
    "list_present = df[df['has_listed_characters']]['dies'].mean()\n",
    "list_absent = df[~df['has_listed_characters']]['dies'].mean()\n",
    "print(f\"Death rate for movies with listed characters: {list_present:.2%}\")\n",
    "print(f\"Death rate for other movies: {list_absent:.2%}\")"
   ]
  },
  {
   "cell_type": "code",
   "execution_count": 78,
   "metadata": {},
   "outputs": [
    {
     "name": "stdout",
     "output_type": "stream",
     "text": [
      "count    976.000000\n",
      "mean       5.433402\n",
      "std        4.304282\n",
      "min        0.000000\n",
      "25%        3.000000\n",
      "50%        4.000000\n",
      "75%        7.000000\n",
      "max       55.000000\n",
      "Name: character_name, dtype: float64\n"
     ]
    }
   ],
   "source": [
    "characters_per_movie = df.groupby('movie_id')['character_name'].count()\n",
    "print(characters_per_movie.describe())"
   ]
  },
  {
   "cell_type": "code",
   "execution_count": 79,
   "metadata": {},
   "outputs": [
    {
     "name": "stdout",
     "output_type": "stream",
     "text": [
      "count    976.000000\n",
      "mean       0.212160\n",
      "std        0.314995\n",
      "min        0.000000\n",
      "25%        0.000000\n",
      "50%        0.000000\n",
      "75%        0.333333\n",
      "max        1.000000\n",
      "Name: dies, dtype: float64\n"
     ]
    }
   ],
   "source": [
    "death_rate_per_movie = df.groupby('movie_id')['dies'].mean()\n",
    "print(death_rate_per_movie.describe())"
   ]
  },
  {
   "cell_type": "code",
   "execution_count": 81,
   "metadata": {},
   "outputs": [
    {
     "data": {
      "image/png": "[encoded data removed]",
      "text/plain": [
       "<Figure size 640x480 with 1 Axes>"
      ]
     },
     "metadata": {},
     "output_type": "display_data"
    }
   ],
   "source": [
    "death_rate_per_movie.hist(bins=10)\n",
    "plt.xlabel('Death Rate')\n",
    "plt.ylabel('Number of Movies')\n",
    "plt.title('Distribution of Death Rates Across Movies')\n",
    "plt.show()"
   ]
  },
  {
   "cell_type": "code",
   "execution_count": 82,
   "metadata": {},
   "outputs": [
    {
     "data": {
      "image/png": "[encoded data removed]",
      "text/plain": [
       "<Figure size 640x480 with 1 Axes>"
      ]
     },
     "metadata": {},
     "output_type": "display_data"
    }
   ],
   "source": [
    "scatter_data = df.groupby('movie_id').agg({'character_name': 'count', 'dies': 'mean'})\n",
    "scatter_data.plot.scatter(x='character_name', y='dies')\n",
    "plt.xlabel('Number of Characters')\n",
    "plt.ylabel('Death Rate')\n",
    "plt.title('Character Count vs. Death Rate')\n",
    "plt.show()"
   ]
  },
  {
   "cell_type": "code",
   "execution_count": 83,
   "metadata": {},
   "outputs": [
    {
     "name": "stdout",
     "output_type": "stream",
     "text": [
      "T-statistic: -4.9408152541508725,\n",
      "P-value: 8.167487999867342e-07\n"
     ]
    }
   ],
   "source": [
    "from scipy.stats import ttest_ind\n",
    "\n",
    "listed_dies = df[df['has_listed_characters']]['dies'].astype(int)\n",
    "unlisted_dies = df[~df['has_listed_characters']]['dies'].astype(int)\n",
    "\n",
    "t_stat, p_value = ttest_ind(listed_dies, unlisted_dies, equal_var=False)\n",
    "print(f\"T-statistic: {t_stat},\\nP-value: {p_value}\")"
   ]
  },
  {
   "cell_type": "markdown",
   "metadata": {},
   "source": [
    "Based on the p-value, the data for the movies with no listed characters is likely less reliable.\n",
    "\n",
    "Hypothesis: if a list of names is not given, the LLM sometimes only extracts the names of characters who die. "
   ]
  },
  {
   "cell_type": "code",
   "execution_count": 115,
   "metadata": {},
   "outputs": [
    {
     "data": {
      "text/plain": [
       "Index([    5313,    39311,   156628,   238810,   451791,   545615,   555857,\n",
       "         629209,   642867,   844331,   905533,   983731,  1022323,  1253851,\n",
       "        1413739,  1894535,  1958425,  2276474,  2493307,  2918585,  3614997,\n",
       "        3616144,  3718428,  3827920,  3868432,  4021176,  4410476,  4453753,\n",
       "        4714316,  4738713,  4780536,  5140171,  5257549,  5291288,  5292154,\n",
       "        6407830,  6446071,  6553805,  6708645,  6743019,  7154010,  8351040,\n",
       "        8437284,  8447974,  8675614,  8972250,  9144986,  9416151, 10198223,\n",
       "       10540961, 10575225, 10943915, 11450530, 12152200, 12556054, 13093495,\n",
       "       13922038, 14187517, 15916538, 17208834, 17228796, 18499953, 18950355,\n",
       "       20489956, 20579732, 21624213, 23950601, 24552424, 25085163, 25445821,\n",
       "       27398409, 28823872, 28946385, 29195939, 30116603, 30237779, 30283732,\n",
       "       31158330, 31329569, 32267636, 34587102],\n",
       "      dtype='int64', name='movie_id')"
      ]
     },
     "execution_count": 115,
     "metadata": {},
     "output_type": "execute_result"
    }
   ],
   "source": [
    "outlier_movie_ids = death_rate_per_movie[death_rate_per_movie == 1.0].index\n",
    "outlier_movie_ids"
   ]
  },
  {
   "cell_type": "code",
   "execution_count": 116,
   "metadata": {},
   "outputs": [
    {
     "name": "stdout",
     "output_type": "stream",
     "text": [
      "Outlier movies with listed characters: 142\n",
      "Outlier movies without listed characters: 121\n"
     ]
    }
   ],
   "source": [
    "outlier_movies_with_listed_characters = df[df['movie_id'].isin(outlier_movie_ids) & df['has_listed_characters']]['movie_id']\n",
    "outlier_movies_with_no_listed_characters = df[df['movie_id'].isin(outlier_movie_ids) & ~df['has_listed_characters']]['movie_id']\n",
    "\n",
    "print(\"Outlier movies with listed characters:\", len(outlier_movies_with_listed_characters))\n",
    "print(\"Outlier movies without listed characters:\", len(outlier_movies_with_no_listed_characters))"
   ]
  },
  {
   "cell_type": "code",
   "execution_count": 117,
   "metadata": {},
   "outputs": [
    {
     "name": "stdout",
     "output_type": "stream",
     "text": [
      "18950355\n",
      "The film was based on actual events regarding a young swimming coach having an affair with an older woman until her husband is forced to end it. This resulted in a chain of reactions from photocopying of love letters leading up to her murder.\n",
      "\n"
     ]
    }
   ],
   "source": [
    "shortest_weird_movie = None\n",
    "shortest_weird_movie_id = None\n",
    "\n",
    "for weird_id in outlier_movies_with_listed_characters:\n",
    "    with open(f'../data/interim/plot_summaries_{weird_id}.txt', 'r') as f:\n",
    "        weird_movie = f.read()\n",
    "        if shortest_weird_movie is not None and len(weird_movie) < len(shortest_weird_movie):\n",
    "            shortest_weird_movie = weird_movie\n",
    "            shortest_weird_movie_id = weird_id\n",
    "        elif shortest_weird_movie is None:\n",
    "            shortest_weird_movie = weird_movie\n",
    "            shortest_weird_movie_id = weird_id\n",
    "\n",
    "print(shortest_weird_movie_id)\n",
    "print(shortest_weird_movie)"
   ]
  },
  {
   "cell_type": "code",
   "execution_count": 118,
   "metadata": {},
   "outputs": [
    {
     "data": {
      "text/html": [
       "<div>\n",
       "<style scoped>\n",
       "    .dataframe tbody tr th:only-of-type {\n",
       "        vertical-align: middle;\n",
       "    }\n",
       "\n",
       "    .dataframe tbody tr th {\n",
       "        vertical-align: top;\n",
       "    }\n",
       "\n",
       "    .dataframe thead th {\n",
       "        text-align: right;\n",
       "    }\n",
       "</style>\n",
       "<table border=\"1\" class=\"dataframe\">\n",
       "  <thead>\n",
       "    <tr style=\"text-align: right;\">\n",
       "      <th></th>\n",
       "      <th>movie_id</th>\n",
       "      <th>character_name</th>\n",
       "      <th>dies</th>\n",
       "      <th>has_listed_characters</th>\n",
       "      <th>character_name_lower</th>\n",
       "    </tr>\n",
       "  </thead>\n",
       "  <tbody>\n",
       "    <tr>\n",
       "      <th>2029</th>\n",
       "      <td>18950355</td>\n",
       "      <td>Vivian Conrad</td>\n",
       "      <td>True</td>\n",
       "      <td>True</td>\n",
       "      <td>vivian conrad</td>\n",
       "    </tr>\n",
       "  </tbody>\n",
       "</table>\n",
       "</div>"
      ],
      "text/plain": [
       "      movie_id character_name  dies  has_listed_characters  \\\n",
       "2029  18950355  Vivian Conrad  True                   True   \n",
       "\n",
       "     character_name_lower  \n",
       "2029        vivian conrad  "
      ]
     },
     "execution_count": 118,
     "metadata": {},
     "output_type": "execute_result"
    }
   ],
   "source": [
    "df[df['movie_id'] == 18950355]"
   ]
  },
  {
   "cell_type": "markdown",
   "metadata": {},
   "source": [
    "The summary had no names, so the LLM assumes the only woman in the summary is Vivian."
   ]
  },
  {
   "cell_type": "code",
   "execution_count": 88,
   "metadata": {},
   "outputs": [],
   "source": [
    "metadata = pd.read_csv(\n",
    "    \"../data/raw/character.metadata.tsv\",\n",
    "    sep=\"\\t\",\n",
    "    header=None,\n",
    "    names=[\n",
    "        \"wikipedia_movie_id\", \"freebase_movie_id\", \"movie_release_date\", \n",
    "        \"character_name\", \"actor_dob\", \"actor_gender\", \"actor_height\",\n",
    "        \"actor_ethnicity\", \"actor_name\", \"actor_age_at_release\",\n",
    "        \"freebase_char_actor_map_id\", \"freebase_character_id\", \"freebase_actor_id\"\n",
    "    ]\n",
    ")"
   ]
  },
  {
   "cell_type": "code",
   "execution_count": 89,
   "metadata": {},
   "outputs": [],
   "source": [
    "df['character_name_lower'] = df['character_name'].str.lower()\n",
    "metadata['character_name_lower'] = metadata['character_name'].str.lower()"
   ]
  },
  {
   "cell_type": "code",
   "execution_count": 90,
   "metadata": {},
   "outputs": [],
   "source": [
    "exact_matches = df.merge(\n",
    "    metadata[['wikipedia_movie_id', 'character_name_lower']],\n",
    "    left_on=['movie_id', 'character_name_lower'],\n",
    "    right_on=['wikipedia_movie_id', 'character_name_lower'],\n",
    "    how='inner'\n",
    ")\n",
    "\n",
    "unmatched_characters = df.merge(\n",
    "    metadata[['wikipedia_movie_id', 'character_name_lower']],\n",
    "    left_on=['movie_id', 'character_name_lower'],\n",
    "    right_on=['wikipedia_movie_id', 'character_name_lower'],\n",
    "    how='left',\n",
    "    indicator=True\n",
    ")\n",
    "unmatched_characters = unmatched_characters[unmatched_characters['_merge'] == 'left_only']\n",
    "unmatched_characters = unmatched_characters.drop(columns=['_merge', 'wikipedia_movie_id'])"
   ]
  },
  {
   "cell_type": "code",
   "execution_count": 113,
   "metadata": {},
   "outputs": [
    {
     "data": {
      "text/html": [
       "<div>\n",
       "<style scoped>\n",
       "    .dataframe tbody tr th:only-of-type {\n",
       "        vertical-align: middle;\n",
       "    }\n",
       "\n",
       "    .dataframe tbody tr th {\n",
       "        vertical-align: top;\n",
       "    }\n",
       "\n",
       "    .dataframe thead th {\n",
       "        text-align: right;\n",
       "    }\n",
       "</style>\n",
       "<table border=\"1\" class=\"dataframe\">\n",
       "  <thead>\n",
       "    <tr style=\"text-align: right;\">\n",
       "      <th></th>\n",
       "      <th></th>\n",
       "      <th>Count</th>\n",
       "    </tr>\n",
       "    <tr>\n",
       "      <th>Match Type</th>\n",
       "      <th>Movie Type</th>\n",
       "      <th></th>\n",
       "    </tr>\n",
       "  </thead>\n",
       "  <tbody>\n",
       "    <tr>\n",
       "      <th rowspan=\"3\" valign=\"top\">Matched</th>\n",
       "      <th>Total</th>\n",
       "      <td>2790</td>\n",
       "    </tr>\n",
       "    <tr>\n",
       "      <th>Listed Characters</th>\n",
       "      <td>2783</td>\n",
       "    </tr>\n",
       "    <tr>\n",
       "      <th>No Listed Characters</th>\n",
       "      <td>7</td>\n",
       "    </tr>\n",
       "    <tr>\n",
       "      <th rowspan=\"3\" valign=\"top\">Unmatched</th>\n",
       "      <th>Total</th>\n",
       "      <td>2559</td>\n",
       "    </tr>\n",
       "    <tr>\n",
       "      <th>Listed Characters</th>\n",
       "      <td>755</td>\n",
       "    </tr>\n",
       "    <tr>\n",
       "      <th>No Listed Characters</th>\n",
       "      <td>1804</td>\n",
       "    </tr>\n",
       "  </tbody>\n",
       "</table>\n",
       "</div>"
      ],
      "text/plain": [
       "                                 Count\n",
       "Match Type Movie Type                 \n",
       "Matched    Total                  2790\n",
       "           Listed Characters      2783\n",
       "           No Listed Characters      7\n",
       "Unmatched  Total                  2559\n",
       "           Listed Characters       755\n",
       "           No Listed Characters   1804"
      ]
     },
     "execution_count": 113,
     "metadata": {},
     "output_type": "execute_result"
    }
   ],
   "source": [
    "match_numbers = {\n",
    "    \"Count\": [\n",
    "        len(exact_matches),\n",
    "        len(exact_matches[exact_matches['has_listed_characters']]),\n",
    "        len(exact_matches[~exact_matches['has_listed_characters']]),\n",
    "        len(unmatched_characters),\n",
    "        len(unmatched_characters[unmatched_characters['has_listed_characters']]),\n",
    "        len(unmatched_characters[~unmatched_characters['has_listed_characters']])\n",
    "    ]\n",
    "}\n",
    "\n",
    "match_numbers_index = pd.MultiIndex.from_tuples([\n",
    "    (\"Matched\", \"Total\"),\n",
    "    (\"Matched\", \"Listed Characters\"),\n",
    "    (\"Matched\", \"No Listed Characters\"),\n",
    "    (\"Unmatched\", \"Total\"),\n",
    "    (\"Unmatched\", \"Listed Characters\"),\n",
    "    (\"Unmatched\", \"No Listed Characters\")\n",
    "], names=[\"Match Type\", \"Movie Type\"])\n",
    "\n",
    "\n",
    "pd.DataFrame(match_numbers, index=match_numbers_index)"
   ]
  },
  {
   "cell_type": "markdown",
   "metadata": {},
   "source": [
    "We can find more matches with fuzzy matching"
   ]
  },
  {
   "cell_type": "code",
   "execution_count": 37,
   "metadata": {},
   "outputs": [],
   "source": [
    "# !pip install rapidfuzz"
   ]
  },
  {
   "cell_type": "code",
   "execution_count": 42,
   "metadata": {},
   "outputs": [],
   "source": [
    "from collections import defaultdict\n",
    "\n",
    "metadata_by_movie = defaultdict(list)\n",
    "\n",
    "for _, row in metadata.iterrows():\n",
    "    metadata_by_movie[row['wikipedia_movie_id']].append(row['character_name_lower'])"
   ]
  },
  {
   "cell_type": "code",
   "execution_count": 102,
   "metadata": {},
   "outputs": [],
   "source": [
    "from rapidfuzz import process\n",
    "\n",
    "def find_closest_match(row):\n",
    "    movie_id = row['movie_id']\n",
    "    character_name = row['character_name_lower']\n",
    "    \n",
    "    if movie_id in metadata_by_movie:\n",
    "        choices = metadata_by_movie[movie_id]\n",
    "        match = process.extractOne(character_name, choices)\n",
    "        if match:\n",
    "            return match[0], match[1]\n",
    "    return None, None"
   ]
  },
  {
   "cell_type": "code",
   "execution_count": 103,
   "metadata": {},
   "outputs": [],
   "source": [
    "unmatched_characters[['closest_match', 'match_score']] = unmatched_characters.apply(\n",
    "    find_closest_match, axis=1, result_type='expand'\n",
    ")\n",
    "\n",
    "fuzzy_matches = unmatched_characters[unmatched_characters['match_score'] >= 90]\n",
    "remaining_unmatched = unmatched_characters[unmatched_characters['match_score'] < 90]"
   ]
  },
  {
   "cell_type": "code",
   "execution_count": 104,
   "metadata": {},
   "outputs": [
    {
     "data": {
      "text/html": [
       "<div>\n",
       "<style scoped>\n",
       "    .dataframe tbody tr th:only-of-type {\n",
       "        vertical-align: middle;\n",
       "    }\n",
       "\n",
       "    .dataframe tbody tr th {\n",
       "        vertical-align: top;\n",
       "    }\n",
       "\n",
       "    .dataframe thead th {\n",
       "        text-align: right;\n",
       "    }\n",
       "</style>\n",
       "<table border=\"1\" class=\"dataframe\">\n",
       "  <thead>\n",
       "    <tr style=\"text-align: right;\">\n",
       "      <th></th>\n",
       "      <th>movie_id</th>\n",
       "      <th>character_name</th>\n",
       "      <th>dies</th>\n",
       "      <th>has_listed_characters</th>\n",
       "      <th>character_name_lower</th>\n",
       "      <th>closest_match</th>\n",
       "      <th>match_score</th>\n",
       "    </tr>\n",
       "  </thead>\n",
       "  <tbody>\n",
       "    <tr>\n",
       "      <th>92</th>\n",
       "      <td>27160128</td>\n",
       "      <td>Gopi</td>\n",
       "      <td>False</td>\n",
       "      <td>True</td>\n",
       "      <td>gopi</td>\n",
       "      <td>gopinathan</td>\n",
       "      <td>90.000000</td>\n",
       "    </tr>\n",
       "    <tr>\n",
       "      <th>170</th>\n",
       "      <td>24467898</td>\n",
       "      <td>Mrinalini Mitra</td>\n",
       "      <td>True</td>\n",
       "      <td>True</td>\n",
       "      <td>mrinalini mitra</td>\n",
       "      <td>aged mrinalini mitra</td>\n",
       "      <td>95.000000</td>\n",
       "    </tr>\n",
       "    <tr>\n",
       "      <th>229</th>\n",
       "      <td>277667</td>\n",
       "      <td>Greg Phillipe</td>\n",
       "      <td>True</td>\n",
       "      <td>True</td>\n",
       "      <td>greg phillipe</td>\n",
       "      <td>greg phillippe</td>\n",
       "      <td>96.296296</td>\n",
       "    </tr>\n",
       "    <tr>\n",
       "      <th>328</th>\n",
       "      <td>26761990</td>\n",
       "      <td>Suzy Brack</td>\n",
       "      <td>False</td>\n",
       "      <td>True</td>\n",
       "      <td>suzy brack</td>\n",
       "      <td>suzy brack &amp; the new jack lords member</td>\n",
       "      <td>90.000000</td>\n",
       "    </tr>\n",
       "    <tr>\n",
       "      <th>329</th>\n",
       "      <td>26761990</td>\n",
       "      <td>The New Jack Lords Member</td>\n",
       "      <td>False</td>\n",
       "      <td>True</td>\n",
       "      <td>the new jack lords member</td>\n",
       "      <td>suzy brack &amp; the new jack lords member</td>\n",
       "      <td>90.000000</td>\n",
       "    </tr>\n",
       "    <tr>\n",
       "      <th>...</th>\n",
       "      <td>...</td>\n",
       "      <td>...</td>\n",
       "      <td>...</td>\n",
       "      <td>...</td>\n",
       "      <td>...</td>\n",
       "      <td>...</td>\n",
       "      <td>...</td>\n",
       "    </tr>\n",
       "    <tr>\n",
       "      <th>4809</th>\n",
       "      <td>2529009</td>\n",
       "      <td>Bobby Earl Ferguson</td>\n",
       "      <td>True</td>\n",
       "      <td>True</td>\n",
       "      <td>bobby earl ferguson</td>\n",
       "      <td>bobby earl</td>\n",
       "      <td>90.000000</td>\n",
       "    </tr>\n",
       "    <tr>\n",
       "      <th>5145</th>\n",
       "      <td>31882143</td>\n",
       "      <td>Shwetha Rajendran</td>\n",
       "      <td>False</td>\n",
       "      <td>True</td>\n",
       "      <td>shwetha rajendran</td>\n",
       "      <td>rajendran</td>\n",
       "      <td>90.000000</td>\n",
       "    </tr>\n",
       "    <tr>\n",
       "      <th>5158</th>\n",
       "      <td>15065852</td>\n",
       "      <td>Polly Barlow's aunt</td>\n",
       "      <td>True</td>\n",
       "      <td>True</td>\n",
       "      <td>polly barlow's aunt</td>\n",
       "      <td>polly barlow</td>\n",
       "      <td>90.000000</td>\n",
       "    </tr>\n",
       "    <tr>\n",
       "      <th>5262</th>\n",
       "      <td>726161</td>\n",
       "      <td>Colonel Geoffery Brydon</td>\n",
       "      <td>False</td>\n",
       "      <td>True</td>\n",
       "      <td>colonel geoffery brydon</td>\n",
       "      <td>colonel geofferey brydon</td>\n",
       "      <td>97.872340</td>\n",
       "    </tr>\n",
       "    <tr>\n",
       "      <th>5331</th>\n",
       "      <td>61522</td>\n",
       "      <td>Dan Leeson</td>\n",
       "      <td>False</td>\n",
       "      <td>True</td>\n",
       "      <td>dan leeson</td>\n",
       "      <td>'dan' leeson</td>\n",
       "      <td>90.909091</td>\n",
       "    </tr>\n",
       "  </tbody>\n",
       "</table>\n",
       "<p>69 rows × 7 columns</p>\n",
       "</div>"
      ],
      "text/plain": [
       "      movie_id             character_name   dies  has_listed_characters  \\\n",
       "92    27160128                       Gopi  False                   True   \n",
       "170   24467898            Mrinalini Mitra   True                   True   \n",
       "229     277667              Greg Phillipe   True                   True   \n",
       "328   26761990                 Suzy Brack  False                   True   \n",
       "329   26761990  The New Jack Lords Member  False                   True   \n",
       "...        ...                        ...    ...                    ...   \n",
       "4809   2529009        Bobby Earl Ferguson   True                   True   \n",
       "5145  31882143          Shwetha Rajendran  False                   True   \n",
       "5158  15065852        Polly Barlow's aunt   True                   True   \n",
       "5262    726161    Colonel Geoffery Brydon  False                   True   \n",
       "5331     61522                 Dan Leeson  False                   True   \n",
       "\n",
       "           character_name_lower                           closest_match  \\\n",
       "92                         gopi                              gopinathan   \n",
       "170             mrinalini mitra                    aged mrinalini mitra   \n",
       "229               greg phillipe                          greg phillippe   \n",
       "328                  suzy brack  suzy brack & the new jack lords member   \n",
       "329   the new jack lords member  suzy brack & the new jack lords member   \n",
       "...                         ...                                     ...   \n",
       "4809        bobby earl ferguson                              bobby earl   \n",
       "5145          shwetha rajendran                               rajendran   \n",
       "5158        polly barlow's aunt                            polly barlow   \n",
       "5262    colonel geoffery brydon                colonel geofferey brydon   \n",
       "5331                 dan leeson                            'dan' leeson   \n",
       "\n",
       "      match_score  \n",
       "92      90.000000  \n",
       "170     95.000000  \n",
       "229     96.296296  \n",
       "328     90.000000  \n",
       "329     90.000000  \n",
       "...           ...  \n",
       "4809    90.000000  \n",
       "5145    90.000000  \n",
       "5158    90.000000  \n",
       "5262    97.872340  \n",
       "5331    90.909091  \n",
       "\n",
       "[69 rows x 7 columns]"
      ]
     },
     "execution_count": 104,
     "metadata": {},
     "output_type": "execute_result"
    }
   ],
   "source": [
    "fuzzy_matches"
   ]
  },
  {
   "cell_type": "markdown",
   "metadata": {},
   "source": [
    "90 seems to be a good threshold for fuzzy matching. We are able to extract 69 additional matches out of 2559 names without exact matches."
   ]
  }
 ],
 "metadata": {
  "kernelspec": {
   "display_name": "langchain",
   "language": "python",
   "name": "python3"
  },
  "language_info": {
   "codemirror_mode": {
    "name": "ipython",
    "version": 3
   },
   "file_extension": ".py",
   "mimetype": "text/x-python",
   "name": "python",
   "nbconvert_exporter": "python",
   "pygments_lexer": "ipython3",
   "version": "3.12.7"
  }
 },
 "nbformat": 4,
 "nbformat_minor": 2
}
