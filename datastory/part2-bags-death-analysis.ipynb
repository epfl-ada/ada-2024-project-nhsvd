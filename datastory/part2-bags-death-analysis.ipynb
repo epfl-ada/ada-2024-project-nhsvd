{
 "cells": [
  {
   "cell_type": "code",
   "execution_count": 1,
   "id": "10b7194d-6172-429c-9a88-fac4393f8d86",
   "metadata": {},
   "outputs": [],
   "source": [
    "import numpy as np\n",
    "import json\n",
    "import os\n",
    "import pandas as pd\n",
    "\n",
    "from pathlib import Path"
   ]
  },
  {
   "cell_type": "code",
   "execution_count": 2,
   "id": "f269711d-4617-4179-abfa-5cafcdf92bf6",
   "metadata": {},
   "outputs": [],
   "source": [
    "death_verbs_patient = {\n",
    "    \"kill\", \"murder\", \"execute\", \"assassinate\", \"slay\",\n",
    "    \"behead\", \"crucify\", \"hang\", \"drown\",\n",
    "    \"poison\", \"decapitate\", \"sacrifice\", \"eradicate\",\n",
    "    \"annihilate\", \"exterminate\", \"obliterate\", \"destroy\",\n",
    "    \"massacre\", \"euthanize\", \"lynch\", \"terminate\"\n",
    "}\n",
    "    \n",
    "death_verbs_agent = {\n",
    "    \"die\", \"commit\", \"perish\", \"sacrifice\",\n",
    "    \"pass away\", \"expire\", \"succumb\", \n",
    "    \"surrender life\", \"bleed out\"\n",
    "}\n",
    "\n",
    "def count_character_deaths(characters_bags):\n",
    "    death_count = 0\n",
    "    character_death_flags = {}\n",
    "    \n",
    "    for character in characters_bags:\n",
    "        char_name = character['name']\n",
    "        char_bag = character['bag']\n",
    "        \n",
    "        died = False\n",
    "        \n",
    "        for verb_type, verb in char_bag:\n",
    "            if verb_type == 'patient verb' and verb in death_verbs_patient:\n",
    "                died = True\n",
    "                break\n",
    "                \n",
    "            if verb_type == 'agent verb' and verb in death_verbs_agent:\n",
    "                died = True\n",
    "                break\n",
    "        \n",
    "        character_death_flags[char_name] = 1 if died else 0\n",
    "        \n",
    "        if died:\n",
    "            death_count += 1\n",
    "    \n",
    "    return death_count, character_death_flags"
   ]
  },
  {
   "cell_type": "code",
   "execution_count": 3,
   "id": "6185c960-87a5-4a0f-a1da-53848fa62bbd",
   "metadata": {},
   "outputs": [],
   "source": [
    "data_path = Path('../data/processed')\n",
    "\n",
    "records = {}\n",
    "\n",
    "for movie in os.listdir(data_path):\n",
    "    character_bags = json.load(open(data_path / movie))\n",
    "\n",
    "    movie_id = movie.split('_')[-1].split('.')[0]\n",
    "\n",
    "    num_deaths, character_deaths =  count_character_deaths(character_bags)\n",
    "\n",
    "    records[movie_id] = {'num_deaths': num_deaths,\n",
    "                         'num_characters': len(character_bags),\n",
    "                         'character_deaths': character_deaths}"
   ]
  },
  {
   "cell_type": "code",
   "execution_count": 4,
   "id": "0453ebae-e014-4523-ba7e-c09edeb1210c",
   "metadata": {},
   "outputs": [
    {
     "name": "stdout",
     "output_type": "stream",
     "text": [
      "Number of movies = 18990\n",
      "Number of characters = 57949\n",
      "Number of deaths = 7232\n",
      "\n",
      "Average number of characters per movie = 3.05\n",
      "Average number of deaths per movie = 0.38\n",
      "Average percentage of dead characters = 0.11\n"
     ]
    }
   ],
   "source": [
    "print(f'Number of movies = {len(records)}')\n",
    "print(f'Number of characters = {np.sum([v['num_characters'] for k, v in records.items()])}')\n",
    "print(f'Number of deaths = {np.sum([v['num_deaths'] for k, v in records.items()])}\\n')\n",
    "\n",
    "print(f'Average number of characters per movie = {np.mean([v['num_characters'] for k, v in records.items()]).round(2)}')\n",
    "print(f'Average number of deaths per movie = {np.mean([v['num_deaths'] for k, v in records.items()]).round(2)}')\n",
    "print(f'Average percentage of dead characters = {np.mean([v['num_deaths'] / v['num_characters'] for k, v in records.items()]).round(2)}')"
   ]
  }
 ],
 "metadata": {
  "kernelspec": {
   "display_name": "base",
   "language": "python",
   "name": "python3"
  },
  "language_info": {
   "codemirror_mode": {
    "name": "ipython",
    "version": 3
   },
   "file_extension": ".py",
   "mimetype": "text/x-python",
   "name": "python",
   "nbconvert_exporter": "python",
   "pygments_lexer": "ipython3",
   "version": "3.12.7"
  }
 },
 "nbformat": 4,
 "nbformat_minor": 5
}
